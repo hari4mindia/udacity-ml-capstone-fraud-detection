{
 "cells": [
  {
   "cell_type": "code",
   "execution_count": null,
   "id": "eb53fca4",
   "metadata": {},
   "outputs": [],
   "source": [
    "# Training (Baseline SKLearn) and optional HPO (XGBoost)"
   ]
  },
  {
   "cell_type": "code",
   "execution_count": null,
   "id": "cf1e39dd",
   "metadata": {},
   "outputs": [],
   "source": [
    "ROLE   = \"<YOUR_SAGEMAKER_EXECUTION_ROLE_ARN>\"\n",
    "REGION = \"<YOUR_AWS_REGION>\"\n",
    "BUCKET = \"<YOUR_S3_BUCKET_NAME>\"\n",
    "PREFIX = \"fraud\"\n"
   ]
  },
  {
   "cell_type": "code",
   "execution_count": null,
   "id": "62018dcb",
   "metadata": {},
   "outputs": [],
   "source": [
    "import sagemaker, boto3, os\n",
    "from sagemaker.sklearn.estimator import SKLearn\n",
    "from sagemaker.inputs import TrainingInput\n",
    "from sagemaker.s3 import S3Uploader\n",
    "\n",
    "sess = sagemaker.Session()\n",
    "# Upload the code directory to S3 so the training job can access it\n",
    "s3_code_path = S3Uploader.upload(\"code\", f\"s3://{BUCKET}/{PREFIX}/code\")\n",
    "print(\"Code uploaded to:\", s3_code_path)\n"
   ]
  },
  {
   "cell_type": "code",
   "execution_count": null,
   "id": "96bb1b31",
   "metadata": {},
   "outputs": [],
   "source": [
    "# Define and launch training job (Logistic Regression baseline)\n",
    "est = SKLearn(\n",
    "    entry_point=\"train.py\",\n",
    "    source_dir=s3_code_path,\n",
    "    framework_version=\"1.2-1\",\n",
    "    role=ROLE,\n",
    "    instance_type=\"ml.m5.large\",\n",
    "    instance_count=1,\n",
    "    output_path=f\"s3://{BUCKET}/{PREFIX}/outputs/\",\n",
    ")\n",
    "\n",
    "channels = {\n",
    "    \"train\": TrainingInput(f\"s3://{BUCKET}/{PREFIX}/data/processed/train.csv\", content_type=\"text/csv\"),\n",
    "    \"val\":   TrainingInput(f\"s3://{BUCKET}/{PREFIX}/data/processed/val.csv\",   content_type=\"text/csv\"),\n",
    "}\n",
    "\n",
    "est.fit(channels)\n",
    "model_artifact = est.model_data\n",
    "model_artifact\n"
   ]
  },
  {
   "cell_type": "code",
   "execution_count": null,
   "id": "d755bfa2",
   "metadata": {},
   "outputs": [],
   "source": [
    "# (Optional) Hyperparameter tuning: run code from code/hpo.py or paste it here and execute.\n",
    "# After HPO completes:\n",
    "# best = tuner.best_estimator()\n",
    "# best.model_data\n"
   ]
  }
 ],
 "metadata": {},
 "nbformat": 4,
 "nbformat_minor": 5
}
