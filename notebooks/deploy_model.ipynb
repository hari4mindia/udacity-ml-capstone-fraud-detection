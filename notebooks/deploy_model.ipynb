{
 "cells": [
  {
   "cell_type": "code",
   "execution_count": null,
   "id": "e7b00301",
   "metadata": {},
   "outputs": [],
   "source": [
    "# Deployment to a Real-time Endpoint"
   ]
  },
  {
   "cell_type": "code",
   "execution_count": null,
   "id": "cddaa3bb",
   "metadata": {},
   "outputs": [],
   "source": [
    "ROLE   = \"<YOUR_SAGEMAKER_EXECUTION_ROLE_ARN>\"\n",
    "REGION = \"<YOUR_AWS_REGION>\"\n",
    "BUCKET = \"<YOUR_S3_BUCKET_NAME>\"\n",
    "PREFIX = \"fraud\"\n",
    "MODEL_DATA_S3 = \"<S3_PATH_TO_MODEL_ARTIFACT>.tar.gz\"  # set after training\n",
    "ENDPOINT_NAME = \"fraud-endpoint-baseline\"\n"
   ]
  },
  {
   "cell_type": "code",
   "execution_count": null,
   "id": "3ff6ab6d",
   "metadata": {},
   "outputs": [],
   "source": [
    "import sagemaker, boto3, os\n",
    "from sagemaker.sklearn.model import SKLearnModel\n",
    "\n",
    "sm_sess = sagemaker.Session()\n",
    "# Use local code/ for inference entry_point so it uploads automatically\n",
    "model = SKLearnModel(\n",
    "    entry_point=\"inference.py\",\n",
    "    source_dir=\"code\",\n",
    "    model_data=MODEL_DATA_S3,\n",
    "    framework_version=\"1.2-1\",\n",
    "    role=ROLE,\n",
    ")\n",
    "\n",
    "predictor = model.deploy(instance_type=\"ml.m5.large\", initial_instance_count=1, endpoint_name=ENDPOINT_NAME)\n",
    "predictor\n"
   ]
  },
  {
   "cell_type": "code",
   "execution_count": null,
   "id": "6ea00f43",
   "metadata": {},
   "outputs": [],
   "source": [
    "# Test the endpoint\n",
    "import json, numpy as np\n",
    "sample = np.zeros((1, 30)).tolist()\n",
    "resp = predictor.predict(json.dumps({\"features\": sample}))\n",
    "resp\n"
   ]
  }
 ],
 "metadata": {},
 "nbformat": 4,
 "nbformat_minor": 5
}
