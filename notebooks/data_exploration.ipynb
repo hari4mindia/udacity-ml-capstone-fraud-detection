{
 "cells": [
  {
   "cell_type": "code",
   "execution_count": null,
   "id": "04d6cf6d",
   "metadata": {},
   "outputs": [],
   "source": [
    "# Create splits & upload processed data\n"
   ]
  },
  {
   "cell_type": "code",
   "execution_count": 1,
   "id": "5155da7b",
   "metadata": {
    "execution": {
     "iopub.execute_input": "2025-08-21T08:10:33.078290Z",
     "iopub.status.busy": "2025-08-21T08:10:33.077643Z",
     "iopub.status.idle": "2025-08-21T08:10:33.081688Z",
     "shell.execute_reply": "2025-08-21T08:10:33.080913Z",
     "shell.execute_reply.started": "2025-08-21T08:10:33.078261Z"
    }
   },
   "outputs": [],
   "source": [
    "REGION = \"us-east-1\"\n",
    "BUCKET = \"udacity-fraud-capstone\"\n",
    "PREFIX = \"fraud\""
   ]
  },
  {
   "cell_type": "code",
   "execution_count": 2,
   "id": "897e3c56",
   "metadata": {
    "execution": {
     "iopub.execute_input": "2025-08-21T08:10:37.531622Z",
     "iopub.status.busy": "2025-08-21T08:10:37.531016Z",
     "iopub.status.idle": "2025-08-21T08:10:39.724767Z",
     "shell.execute_reply": "2025-08-21T08:10:39.724083Z",
     "shell.execute_reply.started": "2025-08-21T08:10:37.531594Z"
    }
   },
   "outputs": [],
   "source": [
    "import boto3, os, io\n",
    "import pandas as pd\n",
    "import numpy as np\n",
    "import matplotlib.pyplot as plt\n",
    "from sklearn.model_selection import train_test_split\n",
    "from sklearn.preprocessing import RobustScaler\n",
    "\n",
    "session = boto3.session.Session(region_name=REGION)\n",
    "s3 = session.client(\"s3\")\n"
   ]
  },
  {
   "cell_type": "code",
   "execution_count": 3,
   "id": "9fe027d2",
   "metadata": {
    "execution": {
     "iopub.execute_input": "2025-08-21T08:12:30.052132Z",
     "iopub.status.busy": "2025-08-21T08:12:30.051709Z",
     "iopub.status.idle": "2025-08-21T08:12:36.262310Z",
     "shell.execute_reply": "2025-08-21T08:12:36.261349Z",
     "shell.execute_reply.started": "2025-08-21T08:12:30.052107Z"
    }
   },
   "outputs": [
    {
     "data": {
      "text/html": [
       "<div>\n",
       "<style scoped>\n",
       "    .dataframe tbody tr th:only-of-type {\n",
       "        vertical-align: middle;\n",
       "    }\n",
       "\n",
       "    .dataframe tbody tr th {\n",
       "        vertical-align: top;\n",
       "    }\n",
       "\n",
       "    .dataframe thead th {\n",
       "        text-align: right;\n",
       "    }\n",
       "</style>\n",
       "<table border=\"1\" class=\"dataframe\">\n",
       "  <thead>\n",
       "    <tr style=\"text-align: right;\">\n",
       "      <th></th>\n",
       "      <th>Time</th>\n",
       "      <th>V1</th>\n",
       "      <th>V2</th>\n",
       "      <th>V3</th>\n",
       "      <th>V4</th>\n",
       "      <th>V5</th>\n",
       "      <th>V6</th>\n",
       "      <th>V7</th>\n",
       "      <th>V8</th>\n",
       "      <th>V9</th>\n",
       "      <th>...</th>\n",
       "      <th>V21</th>\n",
       "      <th>V22</th>\n",
       "      <th>V23</th>\n",
       "      <th>V24</th>\n",
       "      <th>V25</th>\n",
       "      <th>V26</th>\n",
       "      <th>V27</th>\n",
       "      <th>V28</th>\n",
       "      <th>Amount</th>\n",
       "      <th>Class</th>\n",
       "    </tr>\n",
       "  </thead>\n",
       "  <tbody>\n",
       "    <tr>\n",
       "      <th>0</th>\n",
       "      <td>0.0</td>\n",
       "      <td>-1.359807</td>\n",
       "      <td>-0.072781</td>\n",
       "      <td>2.536347</td>\n",
       "      <td>1.378155</td>\n",
       "      <td>-0.338321</td>\n",
       "      <td>0.462388</td>\n",
       "      <td>0.239599</td>\n",
       "      <td>0.098698</td>\n",
       "      <td>0.363787</td>\n",
       "      <td>...</td>\n",
       "      <td>-0.018307</td>\n",
       "      <td>0.277838</td>\n",
       "      <td>-0.110474</td>\n",
       "      <td>0.066928</td>\n",
       "      <td>0.128539</td>\n",
       "      <td>-0.189115</td>\n",
       "      <td>0.133558</td>\n",
       "      <td>-0.021053</td>\n",
       "      <td>149.62</td>\n",
       "      <td>0</td>\n",
       "    </tr>\n",
       "    <tr>\n",
       "      <th>1</th>\n",
       "      <td>0.0</td>\n",
       "      <td>1.191857</td>\n",
       "      <td>0.266151</td>\n",
       "      <td>0.166480</td>\n",
       "      <td>0.448154</td>\n",
       "      <td>0.060018</td>\n",
       "      <td>-0.082361</td>\n",
       "      <td>-0.078803</td>\n",
       "      <td>0.085102</td>\n",
       "      <td>-0.255425</td>\n",
       "      <td>...</td>\n",
       "      <td>-0.225775</td>\n",
       "      <td>-0.638672</td>\n",
       "      <td>0.101288</td>\n",
       "      <td>-0.339846</td>\n",
       "      <td>0.167170</td>\n",
       "      <td>0.125895</td>\n",
       "      <td>-0.008983</td>\n",
       "      <td>0.014724</td>\n",
       "      <td>2.69</td>\n",
       "      <td>0</td>\n",
       "    </tr>\n",
       "    <tr>\n",
       "      <th>2</th>\n",
       "      <td>1.0</td>\n",
       "      <td>-1.358354</td>\n",
       "      <td>-1.340163</td>\n",
       "      <td>1.773209</td>\n",
       "      <td>0.379780</td>\n",
       "      <td>-0.503198</td>\n",
       "      <td>1.800499</td>\n",
       "      <td>0.791461</td>\n",
       "      <td>0.247676</td>\n",
       "      <td>-1.514654</td>\n",
       "      <td>...</td>\n",
       "      <td>0.247998</td>\n",
       "      <td>0.771679</td>\n",
       "      <td>0.909412</td>\n",
       "      <td>-0.689281</td>\n",
       "      <td>-0.327642</td>\n",
       "      <td>-0.139097</td>\n",
       "      <td>-0.055353</td>\n",
       "      <td>-0.059752</td>\n",
       "      <td>378.66</td>\n",
       "      <td>0</td>\n",
       "    </tr>\n",
       "    <tr>\n",
       "      <th>3</th>\n",
       "      <td>1.0</td>\n",
       "      <td>-0.966272</td>\n",
       "      <td>-0.185226</td>\n",
       "      <td>1.792993</td>\n",
       "      <td>-0.863291</td>\n",
       "      <td>-0.010309</td>\n",
       "      <td>1.247203</td>\n",
       "      <td>0.237609</td>\n",
       "      <td>0.377436</td>\n",
       "      <td>-1.387024</td>\n",
       "      <td>...</td>\n",
       "      <td>-0.108300</td>\n",
       "      <td>0.005274</td>\n",
       "      <td>-0.190321</td>\n",
       "      <td>-1.175575</td>\n",
       "      <td>0.647376</td>\n",
       "      <td>-0.221929</td>\n",
       "      <td>0.062723</td>\n",
       "      <td>0.061458</td>\n",
       "      <td>123.50</td>\n",
       "      <td>0</td>\n",
       "    </tr>\n",
       "    <tr>\n",
       "      <th>4</th>\n",
       "      <td>2.0</td>\n",
       "      <td>-1.158233</td>\n",
       "      <td>0.877737</td>\n",
       "      <td>1.548718</td>\n",
       "      <td>0.403034</td>\n",
       "      <td>-0.407193</td>\n",
       "      <td>0.095921</td>\n",
       "      <td>0.592941</td>\n",
       "      <td>-0.270533</td>\n",
       "      <td>0.817739</td>\n",
       "      <td>...</td>\n",
       "      <td>-0.009431</td>\n",
       "      <td>0.798278</td>\n",
       "      <td>-0.137458</td>\n",
       "      <td>0.141267</td>\n",
       "      <td>-0.206010</td>\n",
       "      <td>0.502292</td>\n",
       "      <td>0.219422</td>\n",
       "      <td>0.215153</td>\n",
       "      <td>69.99</td>\n",
       "      <td>0</td>\n",
       "    </tr>\n",
       "  </tbody>\n",
       "</table>\n",
       "<p>5 rows × 31 columns</p>\n",
       "</div>"
      ],
      "text/plain": [
       "   Time        V1        V2        V3        V4        V5        V6        V7  \\\n",
       "0   0.0 -1.359807 -0.072781  2.536347  1.378155 -0.338321  0.462388  0.239599   \n",
       "1   0.0  1.191857  0.266151  0.166480  0.448154  0.060018 -0.082361 -0.078803   \n",
       "2   1.0 -1.358354 -1.340163  1.773209  0.379780 -0.503198  1.800499  0.791461   \n",
       "3   1.0 -0.966272 -0.185226  1.792993 -0.863291 -0.010309  1.247203  0.237609   \n",
       "4   2.0 -1.158233  0.877737  1.548718  0.403034 -0.407193  0.095921  0.592941   \n",
       "\n",
       "         V8        V9  ...       V21       V22       V23       V24       V25  \\\n",
       "0  0.098698  0.363787  ... -0.018307  0.277838 -0.110474  0.066928  0.128539   \n",
       "1  0.085102 -0.255425  ... -0.225775 -0.638672  0.101288 -0.339846  0.167170   \n",
       "2  0.247676 -1.514654  ...  0.247998  0.771679  0.909412 -0.689281 -0.327642   \n",
       "3  0.377436 -1.387024  ... -0.108300  0.005274 -0.190321 -1.175575  0.647376   \n",
       "4 -0.270533  0.817739  ... -0.009431  0.798278 -0.137458  0.141267 -0.206010   \n",
       "\n",
       "        V26       V27       V28  Amount  Class  \n",
       "0 -0.189115  0.133558 -0.021053  149.62      0  \n",
       "1  0.125895 -0.008983  0.014724    2.69      0  \n",
       "2 -0.139097 -0.055353 -0.059752  378.66      0  \n",
       "3 -0.221929  0.062723  0.061458  123.50      0  \n",
       "4  0.502292  0.219422  0.215153   69.99      0  \n",
       "\n",
       "[5 rows x 31 columns]"
      ]
     },
     "metadata": {},
     "output_type": "display_data"
    },
    {
     "name": "stdout",
     "output_type": "stream",
     "text": [
      "Loaded from s3://udacity-fraud-capstone/fraud/data/raw/creditcard.csv  |  rows=284807 cols=31\n"
     ]
    }
   ],
   "source": [
    "import boto3, io\n",
    "import pandas as pd\n",
    "\n",
    "s3 = boto3.client(\"s3\", region_name=REGION)\n",
    "key = f\"{PREFIX}/data/raw/creditcard.csv\"\n",
    "\n",
    "try:\n",
    "    obj = s3.get_object(Bucket=BUCKET, Key=key)\n",
    "    df = pd.read_csv(io.BytesIO(obj[\"Body\"].read()))\n",
    "    display(df.head())\n",
    "    print(f\"Loaded from s3://{BUCKET}/{key}  |  rows={len(df)} cols={df.shape[1]}\")\n",
    "except s3.exceptions.NoSuchKey:\n",
    "    raise FileNotFoundError(f\"Could not find s3://{BUCKET}/{key}. Double-check BUCKET/PREFIX and that the file exists.\")\n"
   ]
  },
  {
   "cell_type": "code",
   "execution_count": 5,
   "id": "22cc1046",
   "metadata": {
    "execution": {
     "iopub.execute_input": "2025-08-21T08:13:28.925661Z",
     "iopub.status.busy": "2025-08-21T08:13:28.925389Z",
     "iopub.status.idle": "2025-08-21T08:13:29.051027Z",
     "shell.execute_reply": "2025-08-21T08:13:29.050176Z",
     "shell.execute_reply.started": "2025-08-21T08:13:28.925642Z"
    }
   },
   "outputs": [
    {
     "name": "stdout",
     "output_type": "stream",
     "text": [
      "(284807, 31)\n",
      "0 missing values total\n",
      "Class\n",
      "0    284315\n",
      "1       492\n",
      "Name: count, dtype: int64\n"
     ]
    },
    {
     "data": {
      "image/png": "[encoded data removed]",
      "text/plain": [
       "<Figure size 640x480 with 1 Axes>"
      ]
     },
     "metadata": {},
     "output_type": "display_data"
    }
   ],
   "source": [
    "# Basic stats and class balance\n",
    "print(df.shape)\n",
    "print(df.isna().sum().sum(), \"missing values total\")\n",
    "print(df['Class'].value_counts())\n",
    "df['Class'].value_counts().plot(kind='bar')\n",
    "plt.title('Class Distribution (0=non-fraud, 1=fraud)')\n",
    "plt.xlabel('Class')\n",
    "plt.ylabel('Count')\n",
    "plt.show()\n"
   ]
  },
  {
   "cell_type": "code",
   "execution_count": 6,
   "id": "26ea8311",
   "metadata": {
    "execution": {
     "iopub.execute_input": "2025-08-21T08:13:40.807059Z",
     "iopub.status.busy": "2025-08-21T08:13:40.806783Z",
     "iopub.status.idle": "2025-08-21T08:13:53.446918Z",
     "shell.execute_reply": "2025-08-21T08:13:53.446258Z",
     "shell.execute_reply.started": "2025-08-21T08:13:40.807037Z"
    }
   },
   "outputs": [],
   "source": [
    "# Scale Amount and Time, keep PCA features V1..V28 as-is\n",
    "scaler = RobustScaler()\n",
    "df[['Time', 'Amount']] = scaler.fit_transform(df[['Time','Amount']])\n",
    "\n",
    "X = df.drop(columns=['Class'])\n",
    "y = df['Class']\n",
    "\n",
    "Xtr, Xtmp, ytr, ytmp = train_test_split(X, y, test_size=0.2, stratify=y, random_state=42)\n",
    "Xval, Xte,  yval, yte = train_test_split(Xtmp, ytmp, test_size=0.5, stratify=ytmp, random_state=42)\n",
    "\n",
    "train = pd.concat([Xtr, ytr], axis=1)\n",
    "val   = pd.concat([Xval, yval], axis=1)\n",
    "test  = pd.concat([Xte, yte], axis=1)\n",
    "\n",
    "train.to_csv(\"train.csv\", index=False)\n",
    "val.to_csv(\"val.csv\", index=False)\n",
    "test.to_csv(\"test.csv\", index=False)\n"
   ]
  },
  {
   "cell_type": "code",
   "execution_count": 7,
   "id": "0a0fc84c",
   "metadata": {
    "execution": {
     "iopub.execute_input": "2025-08-21T08:14:14.744920Z",
     "iopub.status.busy": "2025-08-21T08:14:14.744237Z",
     "iopub.status.idle": "2025-08-21T08:14:16.338327Z",
     "shell.execute_reply": "2025-08-21T08:14:16.337693Z",
     "shell.execute_reply.started": "2025-08-21T08:14:14.744891Z"
    }
   },
   "outputs": [
    {
     "name": "stdout",
     "output_type": "stream",
     "text": [
      "Uploaded splits to S3\n"
     ]
    }
   ],
   "source": [
    "# Upload splits to S3\n",
    "for name in [\"train.csv\",\"val.csv\",\"test.csv\"]:\n",
    "    s3.upload_file(Filename=name, Bucket=BUCKET, Key=f\"{PREFIX}/data/processed/{name}\")\n",
    "print(\"Uploaded splits to S3\")\n"
   ]
  },
  {
   "cell_type": "code",
   "execution_count": 8,
   "id": "df6bd957-4fd1-425d-86e2-77bc3877bb9b",
   "metadata": {
    "execution": {
     "iopub.execute_input": "2025-08-21T08:15:40.719875Z",
     "iopub.status.busy": "2025-08-21T08:15:40.719224Z",
     "iopub.status.idle": "2025-08-21T08:15:40.799167Z",
     "shell.execute_reply": "2025-08-21T08:15:40.798479Z",
     "shell.execute_reply.started": "2025-08-21T08:15:40.719851Z"
    }
   },
   "outputs": [
    {
     "name": "stdout",
     "output_type": "stream",
     "text": [
      "fraud/data/processed/test.csv 15813861\n",
      "fraud/data/processed/train.csv 126512455\n",
      "fraud/data/processed/val.csv 15813858\n"
     ]
    }
   ],
   "source": [
    "#Verify\n",
    "import boto3\n",
    "s3 = boto3.client(\"s3\", region_name=\"us-east-1\")\n",
    "resp = s3.list_objects_v2(Bucket=\"udacity-fraud-capstone\", Prefix=\"fraud/data/processed/\")\n",
    "for o in resp.get(\"Contents\", []):\n",
    "    print(o[\"Key\"], o[\"Size\"])\n"
   ]
  },
  {
   "cell_type": "code",
   "execution_count": 9,
   "id": "20a873c9-934b-42e5-b90d-b99f17bf0c86",
   "metadata": {
    "execution": {
     "iopub.execute_input": "2025-08-21T09:24:16.381614Z",
     "iopub.status.busy": "2025-08-21T09:24:16.380798Z",
     "iopub.status.idle": "2025-08-21T09:24:35.131258Z",
     "shell.execute_reply": "2025-08-21T09:24:35.130521Z",
     "shell.execute_reply.started": "2025-08-21T09:24:16.381585Z"
    }
   },
   "outputs": [
    {
     "name": "stdout",
     "output_type": "stream",
     "text": [
      "Uploaded:\n",
      "s3://udacity-fraud-capstone/fraud/data/processed_xgb/train.csv\n",
      "s3://udacity-fraud-capstone/fraud/data/processed_xgb/val.csv\n"
     ]
    }
   ],
   "source": [
    "import boto3, io, pandas as pd\n",
    "\n",
    "REGION = \"us-east-1\"\n",
    "BUCKET = \"udacity-fraud-capstone\"\n",
    "PREFIX = \"fraud\"\n",
    "\n",
    "s3 = boto3.client(\"s3\", region_name=REGION)\n",
    "\n",
    "def read_csv_s3(key):\n",
    "    obj = s3.get_object(Bucket=BUCKET, Key=key)\n",
    "    return pd.read_csv(io.BytesIO(obj[\"Body\"].read()))\n",
    "\n",
    "def write_csv_s3(df, key):\n",
    "    # No header, no index for XGBoost\n",
    "    buf = io.BytesIO()\n",
    "    df.to_csv(buf, index=False, header=False)\n",
    "    buf.seek(0)\n",
    "    s3.upload_fileobj(buf, BUCKET, key)\n",
    "\n",
    "# 1) Load processed splits we created earlier\n",
    "train = read_csv_s3(f\"{PREFIX}/data/processed/train.csv\")\n",
    "val   = read_csv_s3(f\"{PREFIX}/data/processed/val.csv\")\n",
    "\n",
    "# 2) Move 'Class' to FIRST column\n",
    "def move_label_first(df, label=\"Class\"):\n",
    "    cols = [c for c in df.columns if c != label]\n",
    "    return df[[label] + cols]\n",
    "\n",
    "train_xgb = move_label_first(train)\n",
    "val_xgb   = move_label_first(val)\n",
    "\n",
    "# 3) Quick sanity checks\n",
    "assert train_xgb.columns[0] == \"Class\" and val_xgb.columns[0] == \"Class\"\n",
    "assert set(train_xgb[\"Class\"].unique()) <= {0,1}, \"Label must be 0/1\"\n",
    "\n",
    "# 4) Upload XGB-friendly versions (no header) to a new prefix\n",
    "write_csv_s3(train_xgb, f\"{PREFIX}/data/processed_xgb/train.csv\")\n",
    "write_csv_s3(val_xgb,   f\"{PREFIX}/data/processed_xgb/val.csv\")\n",
    "\n",
    "print(\"Uploaded:\")\n",
    "print(f\"s3://{BUCKET}/{PREFIX}/data/processed_xgb/train.csv\")\n",
    "print(f\"s3://{BUCKET}/{PREFIX}/data/processed_xgb/val.csv\")\n",
    "\n"
   ]
  },
  {
   "cell_type": "code",
   "execution_count": 10,
   "id": "3f40abfe-fcbe-47a1-a00d-f09234b40d50",
   "metadata": {
    "execution": {
     "iopub.execute_input": "2025-08-21T09:49:35.797397Z",
     "iopub.status.busy": "2025-08-21T09:49:35.796707Z",
     "iopub.status.idle": "2025-08-21T09:49:50.922578Z",
     "shell.execute_reply": "2025-08-21T09:49:50.921961Z",
     "shell.execute_reply.started": "2025-08-21T09:49:35.797370Z"
    }
   },
   "outputs": [
    {
     "name": "stdout",
     "output_type": "stream",
     "text": [
      "Rewrote:\n",
      "s3://udacity-fraud-capstone/fraud/data/processed_xgb/train.csv\n",
      "s3://udacity-fraud-capstone/fraud/data/processed_xgb/val.csv\n",
      "\n",
      "== train.csv head ==\n",
      " ['0,0.90728277,1.9467467,-0.7525258,-1.3551295,-0.6616299,1.5028219,4.024933,-1.4796615,1.1398802,1.4068187,-0.15740292,-0.113729194,0.51027745,0.06125778,-0.06655514,1.3287019,0.3525139,-0.7656698,0.14']\n",
      "\n",
      "== val.csv head ==\n",
      " ['0,-0.54464924,1.2459135,0.14967161,-0.45814517,0.10588639,0.59817284,0.20481576,0.23533736,0.036098562,-0.35988933,0.06568858,0.6546397,0.62801635,0.047495157,0.65725887,0.40839884,0.27706358,-0.64059']\n"
     ]
    }
   ],
   "source": [
    "import boto3, io, pandas as pd, numpy as np\n",
    "\n",
    "REGION = \"us-east-1\"\n",
    "BUCKET = \"udacity-fraud-capstone\"\n",
    "PREFIX = \"fraud\"\n",
    "\n",
    "s3 = boto3.client(\"s3\", region_name=REGION)\n",
    "\n",
    "def read_csv_s3(key):\n",
    "    obj = s3.get_object(Bucket=BUCKET, Key=key)\n",
    "    return pd.read_csv(io.BytesIO(obj[\"Body\"].read()))\n",
    "\n",
    "def write_csv_s3(df, key):\n",
    "    buf = io.BytesIO()\n",
    "    df.to_csv(buf, index=False, header=False)\n",
    "    buf.seek(0)\n",
    "    s3.upload_fileobj(buf, BUCKET, key)\n",
    "\n",
    "train = read_csv_s3(f\"{PREFIX}/data/processed/train.csv\")\n",
    "val   = read_csv_s3(f\"{PREFIX}/data/processed/val.csv\")\n",
    "\n",
    "# keep numeric columns + Class\n",
    "num_cols = train.select_dtypes(include=[np.number]).columns.tolist()\n",
    "assert \"Class\" in num_cols, \"Class column missing\"\n",
    "num_cols = [c for c in num_cols if c != \"Class\"]\n",
    "\n",
    "def to_xgb(df):\n",
    "    df = df[[\"Class\"] + num_cols].copy()\n",
    "    df[\"Class\"] = df[\"Class\"].astype(\"int32\")\n",
    "    feats = df.columns[1:]\n",
    "    df[feats] = df[feats].astype(\"float32\")\n",
    "    df[feats] = df[feats].replace([np.inf, -np.inf], np.nan).fillna(0.0)\n",
    "    return df\n",
    "\n",
    "train_xgb = to_xgb(train)\n",
    "val_xgb   = to_xgb(val)\n",
    "\n",
    "write_csv_s3(train_xgb, f\"{PREFIX}/data/processed_xgb/train.csv\")\n",
    "write_csv_s3(val_xgb,   f\"{PREFIX}/data/processed_xgb/val.csv\")\n",
    "\n",
    "print(\"Rewrote:\")\n",
    "print(f\"s3://{BUCKET}/{PREFIX}/data/processed_xgb/train.csv\")\n",
    "print(f\"s3://{BUCKET}/{PREFIX}/data/processed_xgb/val.csv\")\n",
    "\n",
    "# quick peek first 2 lines (should start with 0 or 1; no header)\n",
    "for name in [\"train\",\"val\"]:\n",
    "    obj = s3.get_object(Bucket=BUCKET, Key=f\"{PREFIX}/data/processed_xgb/{name}.csv\")\n",
    "    head = obj[\"Body\"].read(200).decode(\"utf-8\",\"ignore\").splitlines()[:2]\n",
    "    print(f\"\\n== {name}.csv head ==\\n\", head)\n"
   ]
  },
  {
   "cell_type": "code",
   "execution_count": null,
   "id": "1602d1f3-55a8-4ccd-995f-0344c5f2c035",
   "metadata": {},
   "outputs": [],
   "source": []
  }
 ],
 "metadata": {
  "kernelspec": {
   "display_name": "Python 3 (ipykernel)",
   "language": "python",
   "name": "python3"
  },
  "language_info": {
   "codemirror_mode": {
    "name": "ipython",
    "version": 3
   },
   "file_extension": ".py",
   "mimetype": "text/x-python",
   "name": "python",
   "nbconvert_exporter": "python",
   "pygments_lexer": "ipython3",
   "version": "3.12.9"
  }
 },
 "nbformat": 4,
 "nbformat_minor": 5
}
